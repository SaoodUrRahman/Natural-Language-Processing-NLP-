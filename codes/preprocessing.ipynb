{
 "cells": [
  {
   "cell_type": "code",
   "execution_count": 1,
   "metadata": {},
   "outputs": [],
   "source": [
    "from nltk import ngrams"
   ]
  },
  {
   "cell_type": "code",
   "execution_count": 3,
   "metadata": {},
   "outputs": [
    {
     "data": {
      "text/plain": [
       "['i', 'hope', 'you', 'are', 'you', 'are', 'doing', 'well']"
      ]
     },
     "execution_count": 3,
     "metadata": {},
     "output_type": "execute_result"
    }
   ],
   "source": [
    "text = \"i hope you are you are doing well\"\n",
    "words = text.split(' ')\n",
    "words"
   ]
  },
  {
   "cell_type": "code",
   "execution_count": 16,
   "metadata": {},
   "outputs": [
    {
     "data": {
      "text/plain": [
       "'!\"#$%&\\'()*+,-./:;<=>?@[\\\\]^_`{|}~'"
      ]
     },
     "execution_count": 16,
     "metadata": {},
     "output_type": "execute_result"
    }
   ],
   "source": [
    "from string import punctuation as punc\n",
    "punc"
   ]
  },
  {
   "cell_type": "code",
   "execution_count": 18,
   "metadata": {},
   "outputs": [
    {
     "data": {
      "text/plain": [
       "['keep',\n",
       " 'noone',\n",
       " 'less',\n",
       " 'to',\n",
       " 'anyone',\n",
       " 'con',\n",
       " 'show',\n",
       " 'than',\n",
       " 'he',\n",
       " 'her',\n",
       " 'hundred',\n",
       " 'me',\n",
       " 'only',\n",
       " 'ours',\n",
       " 'here',\n",
       " 'off',\n",
       " 'about',\n",
       " 'there',\n",
       " 'cant',\n",
       " 'its',\n",
       " 'and',\n",
       " 'when',\n",
       " 'were',\n",
       " 'who',\n",
       " 'against',\n",
       " 'being',\n",
       " 'the',\n",
       " 'hasnt',\n",
       " 'my',\n",
       " 'name',\n",
       " 'whereby',\n",
       " 'last',\n",
       " 'become',\n",
       " 'almost',\n",
       " 'are',\n",
       " 'most',\n",
       " 'whole',\n",
       " 'fire',\n",
       " 'seems',\n",
       " 'that',\n",
       " 'least',\n",
       " 'therein',\n",
       " 'yours',\n",
       " 'wherein',\n",
       " 'otherwise',\n",
       " 'thereupon',\n",
       " 'take',\n",
       " 'many',\n",
       " 'myself',\n",
       " 'if',\n",
       " 'except',\n",
       " 'etc',\n",
       " 'every',\n",
       " 'once',\n",
       " 'one',\n",
       " 'because',\n",
       " 'empty',\n",
       " 'everywhere',\n",
       " 'nothing',\n",
       " 'behind',\n",
       " 'however',\n",
       " 'put',\n",
       " 'somewhere',\n",
       " 'also',\n",
       " 'will',\n",
       " 'done',\n",
       " 'how',\n",
       " 'such',\n",
       " 'toward',\n",
       " 'i',\n",
       " 'side',\n",
       " 'would',\n",
       " 'herein',\n",
       " 'nine',\n",
       " 'thence',\n",
       " 'eight',\n",
       " 'more',\n",
       " 'was',\n",
       " 'still',\n",
       " 'even',\n",
       " 'none',\n",
       " 'thru',\n",
       " 'well',\n",
       " 'de',\n",
       " 'been',\n",
       " 'any',\n",
       " 'whereupon',\n",
       " 'therefore',\n",
       " 'she',\n",
       " 'yourselves',\n",
       " 'under',\n",
       " 'further',\n",
       " 're',\n",
       " 'these',\n",
       " 'across',\n",
       " 'find',\n",
       " 'since',\n",
       " 'moreover',\n",
       " 'with',\n",
       " 'other',\n",
       " 'please',\n",
       " 'both',\n",
       " 'becoming',\n",
       " 'though',\n",
       " 'something',\n",
       " 'is',\n",
       " 'ie',\n",
       " 'might',\n",
       " 'all',\n",
       " 'beyond',\n",
       " 'along',\n",
       " 'fifty',\n",
       " 'above',\n",
       " 'go',\n",
       " 'anyhow',\n",
       " 'seeming',\n",
       " 'wherever',\n",
       " 'either',\n",
       " 'you',\n",
       " 'not',\n",
       " 'whose',\n",
       " 'thin',\n",
       " 'due',\n",
       " 'ten',\n",
       " 'no',\n",
       " 'someone',\n",
       " 'ltd',\n",
       " 'own',\n",
       " 'bill',\n",
       " 'himself',\n",
       " 'up',\n",
       " 'themselves',\n",
       " 'we',\n",
       " 'became',\n",
       " 'some',\n",
       " 'on',\n",
       " 'eleven',\n",
       " 'beforehand',\n",
       " 'another',\n",
       " 'four',\n",
       " 'get',\n",
       " 'few',\n",
       " 'sometimes',\n",
       " 'towards',\n",
       " 'often',\n",
       " 'nobody',\n",
       " 'without',\n",
       " 'inc',\n",
       " 'too',\n",
       " 'so',\n",
       " 'mostly',\n",
       " 'then',\n",
       " 'elsewhere',\n",
       " 'out',\n",
       " 'around',\n",
       " 'hereupon',\n",
       " 'much',\n",
       " 'those',\n",
       " 'among',\n",
       " 'in',\n",
       " 'mill',\n",
       " 'enough',\n",
       " 'fill',\n",
       " 'move',\n",
       " 'over',\n",
       " 'whereas',\n",
       " 'becomes',\n",
       " 'together',\n",
       " 'may',\n",
       " 'has',\n",
       " 'first',\n",
       " 'whether',\n",
       " 'at',\n",
       " 'twelve',\n",
       " 'could',\n",
       " 'give',\n",
       " 'serious',\n",
       " 'everyone',\n",
       " 'full',\n",
       " 'yet',\n",
       " 'third',\n",
       " 'anything',\n",
       " 'ourselves',\n",
       " 'perhaps',\n",
       " 'five',\n",
       " 'whatever',\n",
       " 'nor',\n",
       " 'else',\n",
       " 'sincere',\n",
       " 'nowhere',\n",
       " 'us',\n",
       " 'herself',\n",
       " 'three',\n",
       " 'our',\n",
       " 'whoever',\n",
       " 'each',\n",
       " 'this',\n",
       " 'two',\n",
       " 'amoungst',\n",
       " 'what',\n",
       " 'or',\n",
       " 'between',\n",
       " 'during',\n",
       " 'again',\n",
       " 'it',\n",
       " 'cry',\n",
       " 'they',\n",
       " 'although',\n",
       " 'but',\n",
       " 'twenty',\n",
       " 'into',\n",
       " 'cannot',\n",
       " 'upon',\n",
       " 'alone',\n",
       " 'formerly',\n",
       " 'interest',\n",
       " 'by',\n",
       " 'always',\n",
       " 'whom',\n",
       " 'as',\n",
       " 'whereafter',\n",
       " 'fifteen',\n",
       " 'meanwhile',\n",
       " 'anyway',\n",
       " 'former',\n",
       " 'where',\n",
       " 'had',\n",
       " 'hence',\n",
       " 'never',\n",
       " 'be',\n",
       " 'co',\n",
       " 'below',\n",
       " 'un',\n",
       " 'now',\n",
       " 'mine',\n",
       " 'which',\n",
       " 'them',\n",
       " 'couldnt',\n",
       " 'from',\n",
       " 'beside',\n",
       " 'have',\n",
       " 'whither',\n",
       " 'can',\n",
       " 'thereby',\n",
       " 'thus',\n",
       " 'rather',\n",
       " 'him',\n",
       " 'sometime',\n",
       " 'latterly',\n",
       " 'ever',\n",
       " 'namely',\n",
       " 'while',\n",
       " 'afterwards',\n",
       " 'whenever',\n",
       " 'indeed',\n",
       " 'onto',\n",
       " 'thick',\n",
       " 'same',\n",
       " 'a',\n",
       " 'very',\n",
       " 'via',\n",
       " 'besides',\n",
       " 'found',\n",
       " 'sixty',\n",
       " 'top',\n",
       " 'why',\n",
       " 'within',\n",
       " 'of',\n",
       " 'everything',\n",
       " 'nevertheless',\n",
       " 'should',\n",
       " 'part',\n",
       " 'amongst',\n",
       " 'their',\n",
       " 'eg',\n",
       " 'must',\n",
       " 'for',\n",
       " 'until',\n",
       " 'per',\n",
       " 'system',\n",
       " 'others',\n",
       " 'whence',\n",
       " 'back',\n",
       " 'amount',\n",
       " 'hereafter',\n",
       " 'seem',\n",
       " 'am',\n",
       " 'itself',\n",
       " 'yourself',\n",
       " 'anywhere',\n",
       " 'through',\n",
       " 'your',\n",
       " 'before',\n",
       " 'detail',\n",
       " 'latter',\n",
       " 'neither',\n",
       " 'six',\n",
       " 'hereby',\n",
       " 'several',\n",
       " 'down',\n",
       " 'front',\n",
       " 'forty',\n",
       " 'bottom',\n",
       " 'made',\n",
       " 'call',\n",
       " 'see',\n",
       " 'already',\n",
       " 'his',\n",
       " 'after',\n",
       " 'seemed',\n",
       " 'next',\n",
       " 'somehow',\n",
       " 'describe',\n",
       " 'throughout',\n",
       " 'hers',\n",
       " 'thereafter',\n",
       " 'do',\n",
       " 'an']"
      ]
     },
     "execution_count": 18,
     "metadata": {},
     "output_type": "execute_result"
    }
   ],
   "source": [
    "from sklearn.feature_extraction import stop_words\n",
    "list(stop_words.ENGLISH_STOP_WORDS)"
   ]
  },
  {
   "cell_type": "code",
   "execution_count": 5,
   "metadata": {},
   "outputs": [
    {
     "name": "stdout",
     "output_type": "stream",
     "text": [
      "unigrams [('i',), ('hope',), ('you',), ('are',), ('you',), ('are',), ('doing',), ('well',)]\n",
      "bigrams [('i', 'hope'), ('hope', 'you'), ('you', 'are'), ('are', 'you'), ('you', 'are'), ('are', 'doing'), ('doing', 'well')]\n",
      "trigrams [('i', 'hope', 'you'), ('hope', 'you', 'are'), ('you', 'are', 'you'), ('are', 'you', 'are'), ('you', 'are', 'doing'), ('are', 'doing', 'well')]\n"
     ]
    }
   ],
   "source": [
    "#words = words[:100]\n",
    "unigrams = list(ngrams(words, 1))\n",
    "bigrams = list(ngrams(words, 2))\n",
    "trigrams = list(ngrams(words, 3))\n",
    "print(\"unigrams\", unigrams)\n",
    "print(\"bigrams\", bigrams)\n",
    "print(\"trigrams\", trigrams)"
   ]
  },
  {
   "cell_type": "code",
   "execution_count": 19,
   "metadata": {},
   "outputs": [],
   "source": [
    "from nltk.stem import PorterStemmer\n",
    "ps = PorterStemmer()"
   ]
  },
  {
   "cell_type": "code",
   "execution_count": 20,
   "metadata": {},
   "outputs": [
    {
     "name": "stdout",
     "output_type": "stream",
     "text": [
      "i\n",
      "hope\n",
      "you\n",
      "are\n",
      "you\n",
      "are\n",
      "do\n",
      "well\n"
     ]
    }
   ],
   "source": [
    "for word in words:\n",
    "    print(ps.stem(word))"
   ]
  },
  {
   "cell_type": "code",
   "execution_count": 21,
   "metadata": {},
   "outputs": [],
   "source": [
    "from nltk.stem import WordNetLemmatizer\n",
    "wl = WordNetLemmatizer()"
   ]
  },
  {
   "cell_type": "code",
   "execution_count": 22,
   "metadata": {},
   "outputs": [
    {
     "name": "stdout",
     "output_type": "stream",
     "text": [
      "i\n",
      "hope\n",
      "you\n",
      "be\n",
      "you\n",
      "be\n",
      "do\n",
      "well\n"
     ]
    }
   ],
   "source": [
    "for word in words:\n",
    "    print(wl.lemmatize(word, 'v'))"
   ]
  },
  {
   "cell_type": "code",
   "execution_count": 23,
   "metadata": {},
   "outputs": [
    {
     "data": {
      "text/plain": [
       "[('i', 'NNS'),\n",
       " ('hope', 'VBP'),\n",
       " ('you', 'PRP'),\n",
       " ('are', 'VBP'),\n",
       " ('you', 'PRP'),\n",
       " ('are', 'VBP'),\n",
       " ('doing', 'VBG'),\n",
       " ('well', 'RB')]"
      ]
     },
     "execution_count": 23,
     "metadata": {},
     "output_type": "execute_result"
    }
   ],
   "source": [
    "from nltk import pos_tag\n",
    "tags = pos_tag(words)\n",
    "tags"
   ]
  },
  {
   "cell_type": "code",
   "execution_count": null,
   "metadata": {},
   "outputs": [],
   "source": [
    "import nltk\n",
    "nltk.download('averaged_perceptron_tagger')"
   ]
  },
  {
   "cell_type": "code",
   "execution_count": null,
   "metadata": {},
   "outputs": [],
   "source": [
    "import nltk\n",
    "nltk.download('wordnet')"
   ]
  },
  {
   "cell_type": "code",
   "execution_count": null,
   "metadata": {},
   "outputs": [],
   "source": [
    "print('unigrams: ', unigrams)\n",
    "print('bigrams: ', bigrams)\n",
    "print('trigrams: ', trigrams)"
   ]
  },
  {
   "cell_type": "code",
   "execution_count": 7,
   "metadata": {},
   "outputs": [
    {
     "data": {
      "text/plain": [
       "[0.16666666666666666,\n",
       " 0.16666666666666666,\n",
       " 0.3333333333333333,\n",
       " 0.3333333333333333,\n",
       " 0.3333333333333333,\n",
       " 0.3333333333333333,\n",
       " 0.16666666666666666,\n",
       " 0.16666666666666666]"
      ]
     },
     "execution_count": 7,
     "metadata": {},
     "output_type": "execute_result"
    }
   ],
   "source": [
    "unigrams_freq = [words.count(x)/len(set(words)) for x in words]\n",
    "unigrams_freq"
   ]
  },
  {
   "cell_type": "code",
   "execution_count": 12,
   "metadata": {},
   "outputs": [
    {
     "data": {
      "text/plain": [
       "('i', 'hope')"
      ]
     },
     "execution_count": 12,
     "metadata": {},
     "output_type": "execute_result"
    }
   ],
   "source": [
    "bigrams[0]"
   ]
  },
  {
   "cell_type": "code",
   "execution_count": 14,
   "metadata": {},
   "outputs": [
    {
     "data": {
      "text/plain": [
       "[1.0, 1.0, 1.0, 0.5, 1.0, 0.5, 1.0]"
      ]
     },
     "execution_count": 14,
     "metadata": {},
     "output_type": "execute_result"
    }
   ],
   "source": [
    "bigrams_freq = []\n",
    "for b in bigrams:\n",
    "    temp = bigrams.count(b)\n",
    "    temp2 = words.count(b[0])\n",
    "    bigrams_freq.append(temp/temp2)\n",
    "bigrams_freq    "
   ]
  },
  {
   "cell_type": "code",
   "execution_count": 15,
   "metadata": {},
   "outputs": [
    {
     "data": {
      "text/plain": [
       "[1.0, 1.0, 0.5, 1.0, 0.5, 1.0]"
      ]
     },
     "execution_count": 15,
     "metadata": {},
     "output_type": "execute_result"
    }
   ],
   "source": [
    "trigrams_freq = [trigrams.count(x)/bigrams.count(x[:2]) for x in trigrams]\n",
    "trigrams_freq"
   ]
  },
  {
   "cell_type": "code",
   "execution_count": null,
   "metadata": {},
   "outputs": [],
   "source": [
    "from nltk.corpus import brown"
   ]
  },
  {
   "cell_type": "code",
   "execution_count": null,
   "metadata": {},
   "outputs": [],
   "source": [
    "words = brown.words(categories = 'news')"
   ]
  },
  {
   "cell_type": "code",
   "execution_count": null,
   "metadata": {},
   "outputs": [],
   "source": [
    "len(words)"
   ]
  },
  {
   "cell_type": "code",
   "execution_count": null,
   "metadata": {},
   "outputs": [],
   "source": []
  }
 ],
 "metadata": {
  "kernelspec": {
   "display_name": "Python [conda env:kerast] *",
   "language": "python",
   "name": "conda-env-kerast-py"
  },
  "language_info": {
   "codemirror_mode": {
    "name": "ipython",
    "version": 3
   },
   "file_extension": ".py",
   "mimetype": "text/x-python",
   "name": "python",
   "nbconvert_exporter": "python",
   "pygments_lexer": "ipython3",
   "version": "3.7.6"
  }
 },
 "nbformat": 4,
 "nbformat_minor": 4
}
